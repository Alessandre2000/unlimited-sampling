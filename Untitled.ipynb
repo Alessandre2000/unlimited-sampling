{
 "cells": [
  {
   "cell_type": "code",
   "execution_count": null,
   "id": "developmental-porcelain",
   "metadata": {},
   "outputs": [],
   "source": [
    "import numpy as np"
   ]
  },
  {
   "cell_type": "code",
   "execution_count": null,
   "id": "unexpected-banana",
   "metadata": {},
   "outputs": [],
   "source": []
  }
 ],
 "metadata": {
  "kernelspec": {
   "display_name": "Python 3",
   "language": "python",
   "name": "python3"
  }
 },
 "nbformat": 4,
 "nbformat_minor": 5
}
